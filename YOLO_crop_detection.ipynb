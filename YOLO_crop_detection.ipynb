{
  "nbformat": 4,
  "nbformat_minor": 0,
  "metadata": {
    "colab": {
      "provenance": [],
      "authorship_tag": "ABX9TyNN1OF8+jM33AmKAK8Ao4mG",
      "include_colab_link": true
    },
    "kernelspec": {
      "name": "python3",
      "display_name": "Python 3"
    },
    "language_info": {
      "name": "python"
    }
  },
  "cells": [
    {
      "cell_type": "markdown",
      "metadata": {
        "id": "view-in-github",
        "colab_type": "text"
      },
      "source": [
        "<a href=\"https://colab.research.google.com/github/simoncardenas2002/Computer_Vision/blob/master/YOLO_crop_detection.ipynb\" target=\"_parent\"><img src=\"https://colab.research.google.com/assets/colab-badge.svg\" alt=\"Open In Colab\"/></a>"
      ]
    },
    {
      "cell_type": "markdown",
      "source": [
        "### Agregamos google drive para poder guardar los elementos necesarios"
      ],
      "metadata": {
        "id": "Q3GDtm9eGJxg"
      }
    },
    {
      "cell_type": "code",
      "source": [
        "from google.colab import drive\n",
        "drive.mount('/content/drive')"
      ],
      "metadata": {
        "id": "KVdlKEB0T2ap",
        "colab": {
          "base_uri": "https://localhost:8080/"
        },
        "outputId": "fb26c3c2-cc28-4d2c-d763-1edb019706cb"
      },
      "execution_count": 1,
      "outputs": [
        {
          "output_type": "stream",
          "name": "stdout",
          "text": [
            "Mounted at /content/drive\n"
          ]
        }
      ]
    },
    {
      "cell_type": "markdown",
      "source": [
        "### Descomprimimos el dataset"
      ],
      "metadata": {
        "id": "yBXAk9P9GP0l"
      }
    },
    {
      "cell_type": "code",
      "source": [
        "!unzip /content/drive/MyDrive/computer_vision/datasets.zip -d /content"
      ],
      "metadata": {
        "id": "puM34Qr0Uow4"
      },
      "execution_count": null,
      "outputs": []
    },
    {
      "cell_type": "markdown",
      "source": [
        "### Clonamos el repositorio de YOLOv5"
      ],
      "metadata": {
        "id": "AFAN1s5WGTzO"
      }
    },
    {
      "cell_type": "code",
      "execution_count": null,
      "metadata": {
        "id": "FXLZFvOWTviP"
      },
      "outputs": [],
      "source": [
        "!git clone https://github.com/ultralytics/yolov5  # clone\n",
        "%cd yolov5\n",
        "%pip install -r requirements.txt  # install"
      ]
    },
    {
      "cell_type": "markdown",
      "source": [
        "### Agregamos el archivo YAML que redireccionará a las carpetas de nuestro dataset\n"
      ],
      "metadata": {
        "id": "Xauq2cGQHGJ4"
      }
    },
    {
      "cell_type": "code",
      "source": [
        "import shutil\n",
        "\n",
        "shutil.copy(\"/content/drive/MyDrive/computer_vision/data_crop_train.yaml\", \"/content/yolov5/data/data_crop_train.yaml\")"
      ],
      "metadata": {
        "colab": {
          "base_uri": "https://localhost:8080/",
          "height": 35
        },
        "id": "uzLtEOb4HN_j",
        "outputId": "6be40db7-8ae1-4289-c49f-910121cebb67"
      },
      "execution_count": 9,
      "outputs": [
        {
          "output_type": "execute_result",
          "data": {
            "text/plain": [
              "'/content/yolov5/data/data_crop_train.yaml'"
            ],
            "application/vnd.google.colaboratory.intrinsic+json": {
              "type": "string"
            }
          },
          "metadata": {},
          "execution_count": 9
        }
      ]
    },
    {
      "cell_type": "markdown",
      "source": [
        "### Se entrena el modelo , con 60 épocas, aun se obtiene bajo porcentaje, al aumentar las épocas tambien está aumentando la precisión"
      ],
      "metadata": {
        "id": "Vjq-bBjnGYNb"
      }
    },
    {
      "cell_type": "code",
      "source": [
        "\n",
        "!python train.py --img 640 --batch-size 2 --epochs 60 --data data_crop_train.yaml --weights yolov5s.pt\n"
      ],
      "metadata": {
        "id": "gZ2KobVpXS3C"
      },
      "execution_count": null,
      "outputs": []
    },
    {
      "cell_type": "markdown",
      "source": [
        "## Probamos con un video para ver los resultados"
      ],
      "metadata": {
        "id": "9eK7eWneGi4p"
      }
    },
    {
      "cell_type": "code",
      "source": [
        "!python detect.py --weights /content/yolov5/runs/train/exp3/weights/best.pt --img 640 --conf 0.25 --source /content/video_test.mp4 "
      ],
      "metadata": {
        "colab": {
          "base_uri": "https://localhost:8080/"
        },
        "id": "8mkASM0jEAGN",
        "outputId": "d3b726b9-c4fd-4d04-8688-c97cad8706ff"
      },
      "execution_count": 8,
      "outputs": [
        {
          "output_type": "stream",
          "name": "stdout",
          "text": [
            "\u001b[34m\u001b[1mdetect: \u001b[0mweights=['/content/yolov5/runs/train/exp3/weights/best.pt'], source=/content/video_test.mp4, data=data/coco128.yaml, imgsz=[640, 640], conf_thres=0.25, iou_thres=0.45, max_det=1000, device=, view_img=False, save_txt=False, save_conf=False, save_crop=False, nosave=False, classes=None, agnostic_nms=False, augment=False, visualize=False, update=False, project=runs/detect, name=exp, exist_ok=False, line_thickness=3, hide_labels=False, hide_conf=False, half=False, dnn=False, vid_stride=1\n",
            "\u001b[31m\u001b[1mrequirements:\u001b[0m /content/requirements.txt not found, check failed.\n",
            "YOLOv5 🚀 v7.0-160-g867f7f0 Python-3.10.11 torch-2.0.0+cu118 CPU\n",
            "\n",
            "Fusing layers... \n",
            "Model summary: 157 layers, 7012822 parameters, 0 gradients, 15.8 GFLOPs\n",
            "video 1/1 (1/310) /content/video_test.mp4: 384x640 14 crops, 234.1ms\n",
            "video 1/1 (2/310) /content/video_test.mp4: 384x640 16 crops, 239.8ms\n",
            "video 1/1 (3/310) /content/video_test.mp4: 384x640 16 crops, 217.9ms\n",
            "video 1/1 (4/310) /content/video_test.mp4: 384x640 16 crops, 210.6ms\n",
            "video 1/1 (5/310) /content/video_test.mp4: 384x640 8 crops, 207.3ms\n",
            "video 1/1 (6/310) /content/video_test.mp4: 384x640 14 crops, 198.1ms\n",
            "video 1/1 (7/310) /content/video_test.mp4: 384x640 8 crops, 209.4ms\n",
            "video 1/1 (8/310) /content/video_test.mp4: 384x640 15 crops, 211.9ms\n",
            "video 1/1 (9/310) /content/video_test.mp4: 384x640 14 crops, 201.8ms\n",
            "video 1/1 (10/310) /content/video_test.mp4: 384x640 11 crops, 199.7ms\n",
            "video 1/1 (11/310) /content/video_test.mp4: 384x640 15 crops, 226.9ms\n",
            "video 1/1 (12/310) /content/video_test.mp4: 384x640 14 crops, 351.7ms\n",
            "video 1/1 (13/310) /content/video_test.mp4: 384x640 8 crops, 327.5ms\n",
            "video 1/1 (14/310) /content/video_test.mp4: 384x640 21 crops, 335.0ms\n",
            "video 1/1 (15/310) /content/video_test.mp4: 384x640 15 crops, 354.4ms\n",
            "video 1/1 (16/310) /content/video_test.mp4: 384x640 8 crops, 331.0ms\n",
            "video 1/1 (17/310) /content/video_test.mp4: 384x640 11 crops, 365.0ms\n",
            "video 1/1 (18/310) /content/video_test.mp4: 384x640 14 crops, 348.0ms\n",
            "video 1/1 (19/310) /content/video_test.mp4: 384x640 15 crops, 339.0ms\n",
            "video 1/1 (20/310) /content/video_test.mp4: 384x640 16 crops, 357.2ms\n",
            "video 1/1 (21/310) /content/video_test.mp4: 384x640 19 crops, 332.5ms\n",
            "video 1/1 (22/310) /content/video_test.mp4: 384x640 17 crops, 352.3ms\n",
            "video 1/1 (23/310) /content/video_test.mp4: 384x640 13 crops, 288.6ms\n",
            "video 1/1 (24/310) /content/video_test.mp4: 384x640 15 crops, 201.6ms\n",
            "video 1/1 (25/310) /content/video_test.mp4: 384x640 17 crops, 214.4ms\n",
            "video 1/1 (26/310) /content/video_test.mp4: 384x640 13 crops, 207.2ms\n",
            "video 1/1 (27/310) /content/video_test.mp4: 384x640 14 crops, 210.9ms\n",
            "video 1/1 (28/310) /content/video_test.mp4: 384x640 13 crops, 211.4ms\n",
            "video 1/1 (29/310) /content/video_test.mp4: 384x640 13 crops, 223.7ms\n",
            "video 1/1 (30/310) /content/video_test.mp4: 384x640 13 crops, 212.4ms\n",
            "video 1/1 (31/310) /content/video_test.mp4: 384x640 18 crops, 211.4ms\n",
            "video 1/1 (32/310) /content/video_test.mp4: 384x640 21 crops, 212.1ms\n",
            "video 1/1 (33/310) /content/video_test.mp4: 384x640 17 crops, 202.0ms\n",
            "video 1/1 (34/310) /content/video_test.mp4: 384x640 28 crops, 215.2ms\n",
            "video 1/1 (35/310) /content/video_test.mp4: 384x640 22 crops, 210.3ms\n",
            "video 1/1 (36/310) /content/video_test.mp4: 384x640 25 crops, 208.8ms\n",
            "video 1/1 (37/310) /content/video_test.mp4: 384x640 17 crops, 205.3ms\n",
            "video 1/1 (38/310) /content/video_test.mp4: 384x640 21 crops, 207.0ms\n",
            "video 1/1 (39/310) /content/video_test.mp4: 384x640 12 crops, 212.3ms\n",
            "video 1/1 (40/310) /content/video_test.mp4: 384x640 18 crops, 217.5ms\n",
            "video 1/1 (41/310) /content/video_test.mp4: 384x640 17 crops, 206.5ms\n",
            "video 1/1 (42/310) /content/video_test.mp4: 384x640 13 crops, 210.1ms\n",
            "video 1/1 (43/310) /content/video_test.mp4: 384x640 14 crops, 215.0ms\n",
            "video 1/1 (44/310) /content/video_test.mp4: 384x640 23 crops, 224.0ms\n",
            "video 1/1 (45/310) /content/video_test.mp4: 384x640 22 crops, 202.2ms\n",
            "video 1/1 (46/310) /content/video_test.mp4: 384x640 16 crops, 202.5ms\n",
            "video 1/1 (47/310) /content/video_test.mp4: 384x640 15 crops, 206.9ms\n",
            "video 1/1 (48/310) /content/video_test.mp4: 384x640 17 crops, 215.4ms\n",
            "video 1/1 (49/310) /content/video_test.mp4: 384x640 14 crops, 207.3ms\n",
            "video 1/1 (50/310) /content/video_test.mp4: 384x640 13 crops, 213.3ms\n",
            "video 1/1 (51/310) /content/video_test.mp4: 384x640 12 crops, 210.1ms\n",
            "video 1/1 (52/310) /content/video_test.mp4: 384x640 11 crops, 209.8ms\n",
            "video 1/1 (53/310) /content/video_test.mp4: 384x640 10 crops, 216.2ms\n",
            "video 1/1 (54/310) /content/video_test.mp4: 384x640 10 crops, 204.3ms\n",
            "video 1/1 (55/310) /content/video_test.mp4: 384x640 11 crops, 201.3ms\n",
            "video 1/1 (56/310) /content/video_test.mp4: 384x640 7 crops, 208.8ms\n",
            "video 1/1 (57/310) /content/video_test.mp4: 384x640 7 crops, 216.9ms\n",
            "video 1/1 (58/310) /content/video_test.mp4: 384x640 14 crops, 226.5ms\n",
            "video 1/1 (59/310) /content/video_test.mp4: 384x640 11 crops, 220.8ms\n",
            "video 1/1 (60/310) /content/video_test.mp4: 384x640 13 crops, 209.4ms\n",
            "video 1/1 (61/310) /content/video_test.mp4: 384x640 10 crops, 203.9ms\n",
            "video 1/1 (62/310) /content/video_test.mp4: 384x640 7 crops, 223.0ms\n",
            "video 1/1 (63/310) /content/video_test.mp4: 384x640 13 crops, 205.0ms\n",
            "video 1/1 (64/310) /content/video_test.mp4: 384x640 13 crops, 206.3ms\n",
            "video 1/1 (65/310) /content/video_test.mp4: 384x640 16 crops, 216.2ms\n",
            "video 1/1 (66/310) /content/video_test.mp4: 384x640 13 crops, 331.0ms\n",
            "video 1/1 (67/310) /content/video_test.mp4: 384x640 15 crops, 333.5ms\n",
            "video 1/1 (68/310) /content/video_test.mp4: 384x640 22 crops, 339.3ms\n",
            "video 1/1 (69/310) /content/video_test.mp4: 384x640 23 crops, 341.7ms\n",
            "video 1/1 (70/310) /content/video_test.mp4: 384x640 20 crops, 334.7ms\n",
            "video 1/1 (71/310) /content/video_test.mp4: 384x640 16 crops, 352.1ms\n",
            "video 1/1 (72/310) /content/video_test.mp4: 384x640 13 crops, 345.6ms\n",
            "video 1/1 (73/310) /content/video_test.mp4: 384x640 13 crops, 342.4ms\n",
            "video 1/1 (74/310) /content/video_test.mp4: 384x640 11 crops, 352.8ms\n",
            "video 1/1 (75/310) /content/video_test.mp4: 384x640 14 crops, 342.3ms\n",
            "video 1/1 (76/310) /content/video_test.mp4: 384x640 14 crops, 325.3ms\n",
            "video 1/1 (77/310) /content/video_test.mp4: 384x640 14 crops, 351.1ms\n",
            "video 1/1 (78/310) /content/video_test.mp4: 384x640 15 crops, 246.9ms\n",
            "video 1/1 (79/310) /content/video_test.mp4: 384x640 17 crops, 211.1ms\n",
            "video 1/1 (80/310) /content/video_test.mp4: 384x640 9 crops, 204.1ms\n",
            "video 1/1 (81/310) /content/video_test.mp4: 384x640 9 crops, 217.0ms\n",
            "video 1/1 (82/310) /content/video_test.mp4: 384x640 6 crops, 204.9ms\n",
            "video 1/1 (83/310) /content/video_test.mp4: 384x640 10 crops, 216.7ms\n",
            "video 1/1 (84/310) /content/video_test.mp4: 384x640 12 crops, 215.3ms\n",
            "video 1/1 (85/310) /content/video_test.mp4: 384x640 8 crops, 222.6ms\n",
            "video 1/1 (86/310) /content/video_test.mp4: 384x640 11 crops, 208.9ms\n",
            "video 1/1 (87/310) /content/video_test.mp4: 384x640 13 crops, 215.1ms\n",
            "video 1/1 (88/310) /content/video_test.mp4: 384x640 18 crops, 203.9ms\n",
            "video 1/1 (89/310) /content/video_test.mp4: 384x640 14 crops, 219.9ms\n",
            "video 1/1 (90/310) /content/video_test.mp4: 384x640 15 crops, 206.3ms\n",
            "video 1/1 (91/310) /content/video_test.mp4: 384x640 14 crops, 206.3ms\n",
            "video 1/1 (92/310) /content/video_test.mp4: 384x640 16 crops, 224.9ms\n",
            "video 1/1 (93/310) /content/video_test.mp4: 384x640 12 crops, 209.0ms\n",
            "video 1/1 (94/310) /content/video_test.mp4: 384x640 14 crops, 221.8ms\n",
            "video 1/1 (95/310) /content/video_test.mp4: 384x640 12 crops, 196.5ms\n",
            "video 1/1 (96/310) /content/video_test.mp4: 384x640 5 crops, 211.8ms\n",
            "video 1/1 (97/310) /content/video_test.mp4: 384x640 10 crops, 201.6ms\n",
            "video 1/1 (98/310) /content/video_test.mp4: 384x640 11 crops, 210.7ms\n",
            "video 1/1 (99/310) /content/video_test.mp4: 384x640 10 crops, 203.3ms\n",
            "video 1/1 (100/310) /content/video_test.mp4: 384x640 4 crops, 210.0ms\n",
            "video 1/1 (101/310) /content/video_test.mp4: 384x640 13 crops, 201.1ms\n",
            "video 1/1 (102/310) /content/video_test.mp4: 384x640 10 crops, 219.1ms\n",
            "video 1/1 (103/310) /content/video_test.mp4: 384x640 11 crops, 212.9ms\n",
            "video 1/1 (104/310) /content/video_test.mp4: 384x640 12 crops, 207.6ms\n",
            "video 1/1 (105/310) /content/video_test.mp4: 384x640 9 crops, 205.5ms\n",
            "video 1/1 (106/310) /content/video_test.mp4: 384x640 11 crops, 207.2ms\n",
            "video 1/1 (107/310) /content/video_test.mp4: 384x640 9 crops, 215.4ms\n",
            "video 1/1 (108/310) /content/video_test.mp4: 384x640 10 crops, 198.7ms\n",
            "video 1/1 (109/310) /content/video_test.mp4: 384x640 6 crops, 209.5ms\n",
            "video 1/1 (110/310) /content/video_test.mp4: 384x640 12 crops, 209.4ms\n",
            "video 1/1 (111/310) /content/video_test.mp4: 384x640 11 crops, 220.5ms\n",
            "video 1/1 (112/310) /content/video_test.mp4: 384x640 9 crops, 207.3ms\n",
            "video 1/1 (113/310) /content/video_test.mp4: 384x640 9 crops, 208.4ms\n",
            "video 1/1 (114/310) /content/video_test.mp4: 384x640 12 crops, 201.5ms\n",
            "video 1/1 (115/310) /content/video_test.mp4: 384x640 9 crops, 204.0ms\n",
            "video 1/1 (116/310) /content/video_test.mp4: 384x640 5 crops, 215.4ms\n",
            "video 1/1 (117/310) /content/video_test.mp4: 384x640 8 crops, 201.4ms\n",
            "video 1/1 (118/310) /content/video_test.mp4: 384x640 2 crops, 200.1ms\n",
            "video 1/1 (119/310) /content/video_test.mp4: 384x640 4 crops, 202.2ms\n",
            "video 1/1 (120/310) /content/video_test.mp4: 384x640 4 crops, 216.5ms\n",
            "video 1/1 (121/310) /content/video_test.mp4: 384x640 3 crops, 304.5ms\n",
            "video 1/1 (122/310) /content/video_test.mp4: 384x640 11 crops, 340.6ms\n",
            "video 1/1 (123/310) /content/video_test.mp4: 384x640 7 crops, 349.3ms\n",
            "video 1/1 (124/310) /content/video_test.mp4: 384x640 9 crops, 345.8ms\n",
            "video 1/1 (125/310) /content/video_test.mp4: 384x640 12 crops, 339.5ms\n",
            "video 1/1 (126/310) /content/video_test.mp4: 384x640 5 crops, 352.5ms\n",
            "video 1/1 (127/310) /content/video_test.mp4: 384x640 9 crops, 336.0ms\n",
            "video 1/1 (128/310) /content/video_test.mp4: 384x640 14 crops, 331.7ms\n",
            "video 1/1 (129/310) /content/video_test.mp4: 384x640 11 crops, 350.1ms\n",
            "video 1/1 (130/310) /content/video_test.mp4: 384x640 15 crops, 335.2ms\n",
            "video 1/1 (131/310) /content/video_test.mp4: 384x640 10 crops, 362.3ms\n",
            "video 1/1 (132/310) /content/video_test.mp4: 384x640 13 crops, 337.3ms\n",
            "video 1/1 (133/310) /content/video_test.mp4: 384x640 15 crops, 250.1ms\n",
            "video 1/1 (134/310) /content/video_test.mp4: 384x640 18 crops, 212.3ms\n",
            "video 1/1 (135/310) /content/video_test.mp4: 384x640 14 crops, 218.1ms\n",
            "video 1/1 (136/310) /content/video_test.mp4: 384x640 15 crops, 202.1ms\n",
            "video 1/1 (137/310) /content/video_test.mp4: 384x640 11 crops, 204.1ms\n",
            "video 1/1 (138/310) /content/video_test.mp4: 384x640 16 crops, 203.7ms\n",
            "video 1/1 (139/310) /content/video_test.mp4: 384x640 9 crops, 210.1ms\n",
            "video 1/1 (140/310) /content/video_test.mp4: 384x640 9 crops, 215.1ms\n",
            "video 1/1 (141/310) /content/video_test.mp4: 384x640 6 crops, 205.0ms\n",
            "video 1/1 (142/310) /content/video_test.mp4: 384x640 7 crops, 205.2ms\n",
            "video 1/1 (143/310) /content/video_test.mp4: 384x640 6 crops, 210.9ms\n",
            "video 1/1 (144/310) /content/video_test.mp4: 384x640 9 crops, 225.4ms\n",
            "video 1/1 (145/310) /content/video_test.mp4: 384x640 12 crops, 198.8ms\n",
            "video 1/1 (146/310) /content/video_test.mp4: 384x640 10 crops, 203.6ms\n",
            "video 1/1 (147/310) /content/video_test.mp4: 384x640 10 crops, 208.6ms\n",
            "video 1/1 (148/310) /content/video_test.mp4: 384x640 8 crops, 203.6ms\n",
            "video 1/1 (149/310) /content/video_test.mp4: 384x640 11 crops, 213.0ms\n",
            "video 1/1 (150/310) /content/video_test.mp4: 384x640 7 crops, 214.3ms\n",
            "video 1/1 (151/310) /content/video_test.mp4: 384x640 4 crops, 212.6ms\n",
            "video 1/1 (152/310) /content/video_test.mp4: 384x640 7 crops, 204.3ms\n",
            "video 1/1 (153/310) /content/video_test.mp4: 384x640 5 crops, 226.3ms\n",
            "video 1/1 (154/310) /content/video_test.mp4: 384x640 10 crops, 204.3ms\n",
            "video 1/1 (155/310) /content/video_test.mp4: 384x640 8 crops, 208.4ms\n",
            "video 1/1 (156/310) /content/video_test.mp4: 384x640 2 crops, 205.8ms\n",
            "video 1/1 (157/310) /content/video_test.mp4: 384x640 7 crops, 205.6ms\n",
            "video 1/1 (158/310) /content/video_test.mp4: 384x640 2 crops, 201.4ms\n",
            "video 1/1 (159/310) /content/video_test.mp4: 384x640 4 crops, 213.5ms\n",
            "video 1/1 (160/310) /content/video_test.mp4: 384x640 6 crops, 198.4ms\n",
            "video 1/1 (161/310) /content/video_test.mp4: 384x640 3 crops, 209.2ms\n",
            "video 1/1 (162/310) /content/video_test.mp4: 384x640 14 crops, 212.8ms\n",
            "video 1/1 (163/310) /content/video_test.mp4: 384x640 12 crops, 204.2ms\n",
            "video 1/1 (164/310) /content/video_test.mp4: 384x640 8 crops, 208.3ms\n",
            "video 1/1 (165/310) /content/video_test.mp4: 384x640 10 crops, 203.9ms\n",
            "video 1/1 (166/310) /content/video_test.mp4: 384x640 12 crops, 218.1ms\n",
            "video 1/1 (167/310) /content/video_test.mp4: 384x640 10 crops, 202.4ms\n",
            "video 1/1 (168/310) /content/video_test.mp4: 384x640 15 crops, 222.0ms\n",
            "video 1/1 (169/310) /content/video_test.mp4: 384x640 8 crops, 201.7ms\n",
            "video 1/1 (170/310) /content/video_test.mp4: 384x640 9 crops, 211.7ms\n",
            "video 1/1 (171/310) /content/video_test.mp4: 384x640 8 crops, 226.5ms\n",
            "video 1/1 (172/310) /content/video_test.mp4: 384x640 12 crops, 206.4ms\n",
            "video 1/1 (173/310) /content/video_test.mp4: 384x640 9 crops, 208.9ms\n",
            "video 1/1 (174/310) /content/video_test.mp4: 384x640 7 crops, 209.8ms\n",
            "video 1/1 (175/310) /content/video_test.mp4: 384x640 12 crops, 209.4ms\n",
            "video 1/1 (176/310) /content/video_test.mp4: 384x640 7 crops, 266.3ms\n",
            "video 1/1 (177/310) /content/video_test.mp4: 384x640 11 crops, 338.9ms\n",
            "video 1/1 (178/310) /content/video_test.mp4: 384x640 8 crops, 351.4ms\n",
            "video 1/1 (179/310) /content/video_test.mp4: 384x640 7 crops, 331.2ms\n",
            "video 1/1 (180/310) /content/video_test.mp4: 384x640 8 crops, 341.7ms\n",
            "video 1/1 (181/310) /content/video_test.mp4: 384x640 10 crops, 339.6ms\n",
            "video 1/1 (182/310) /content/video_test.mp4: 384x640 12 crops, 344.8ms\n",
            "video 1/1 (183/310) /content/video_test.mp4: 384x640 13 crops, 356.7ms\n",
            "video 1/1 (184/310) /content/video_test.mp4: 384x640 14 crops, 326.5ms\n",
            "video 1/1 (185/310) /content/video_test.mp4: 384x640 16 crops, 335.8ms\n",
            "video 1/1 (186/310) /content/video_test.mp4: 384x640 9 crops, 336.4ms\n",
            "video 1/1 (187/310) /content/video_test.mp4: 384x640 11 crops, 335.3ms\n",
            "video 1/1 (188/310) /content/video_test.mp4: 384x640 13 crops, 314.7ms\n",
            "video 1/1 (189/310) /content/video_test.mp4: 384x640 16 crops, 209.0ms\n",
            "video 1/1 (190/310) /content/video_test.mp4: 384x640 17 crops, 220.7ms\n",
            "video 1/1 (191/310) /content/video_test.mp4: 384x640 10 crops, 203.8ms\n",
            "video 1/1 (192/310) /content/video_test.mp4: 384x640 12 crops, 207.5ms\n",
            "video 1/1 (193/310) /content/video_test.mp4: 384x640 9 crops, 211.4ms\n",
            "video 1/1 (194/310) /content/video_test.mp4: 384x640 8 crops, 210.3ms\n",
            "video 1/1 (195/310) /content/video_test.mp4: 384x640 6 crops, 209.9ms\n",
            "video 1/1 (196/310) /content/video_test.mp4: 384x640 4 crops, 209.5ms\n",
            "video 1/1 (197/310) /content/video_test.mp4: 384x640 4 crops, 207.0ms\n",
            "video 1/1 (198/310) /content/video_test.mp4: 384x640 6 crops, 204.7ms\n",
            "video 1/1 (199/310) /content/video_test.mp4: 384x640 6 crops, 223.2ms\n",
            "video 1/1 (200/310) /content/video_test.mp4: 384x640 7 crops, 201.9ms\n",
            "video 1/1 (201/310) /content/video_test.mp4: 384x640 4 crops, 209.1ms\n",
            "video 1/1 (202/310) /content/video_test.mp4: 384x640 4 crops, 200.9ms\n",
            "video 1/1 (203/310) /content/video_test.mp4: 384x640 3 crops, 204.2ms\n",
            "video 1/1 (204/310) /content/video_test.mp4: 384x640 6 crops, 201.9ms\n",
            "video 1/1 (205/310) /content/video_test.mp4: 384x640 8 crops, 202.2ms\n",
            "video 1/1 (206/310) /content/video_test.mp4: 384x640 5 crops, 216.2ms\n",
            "video 1/1 (207/310) /content/video_test.mp4: 384x640 4 crops, 209.6ms\n",
            "video 1/1 (208/310) /content/video_test.mp4: 384x640 3 crops, 215.9ms\n",
            "video 1/1 (209/310) /content/video_test.mp4: 384x640 4 crops, 211.9ms\n",
            "video 1/1 (210/310) /content/video_test.mp4: 384x640 6 crops, 202.0ms\n",
            "video 1/1 (211/310) /content/video_test.mp4: 384x640 4 crops, 202.1ms\n",
            "video 1/1 (212/310) /content/video_test.mp4: 384x640 8 crops, 205.9ms\n",
            "video 1/1 (213/310) /content/video_test.mp4: 384x640 4 crops, 210.6ms\n",
            "video 1/1 (214/310) /content/video_test.mp4: 384x640 9 crops, 217.1ms\n",
            "video 1/1 (215/310) /content/video_test.mp4: 384x640 10 crops, 208.5ms\n",
            "video 1/1 (216/310) /content/video_test.mp4: 384x640 7 crops, 198.2ms\n",
            "video 1/1 (217/310) /content/video_test.mp4: 384x640 10 crops, 222.8ms\n",
            "video 1/1 (218/310) /content/video_test.mp4: 384x640 8 crops, 198.5ms\n",
            "video 1/1 (219/310) /content/video_test.mp4: 384x640 6 crops, 207.6ms\n",
            "video 1/1 (220/310) /content/video_test.mp4: 384x640 14 crops, 205.3ms\n",
            "video 1/1 (221/310) /content/video_test.mp4: 384x640 12 crops, 211.4ms\n",
            "video 1/1 (222/310) /content/video_test.mp4: 384x640 10 crops, 205.5ms\n",
            "video 1/1 (223/310) /content/video_test.mp4: 384x640 7 crops, 209.4ms\n",
            "video 1/1 (224/310) /content/video_test.mp4: 384x640 8 crops, 216.1ms\n",
            "video 1/1 (225/310) /content/video_test.mp4: 384x640 10 crops, 205.1ms\n",
            "video 1/1 (226/310) /content/video_test.mp4: 384x640 8 crops, 206.0ms\n",
            "video 1/1 (227/310) /content/video_test.mp4: 384x640 10 crops, 208.9ms\n",
            "video 1/1 (228/310) /content/video_test.mp4: 384x640 12 crops, 200.0ms\n",
            "video 1/1 (229/310) /content/video_test.mp4: 384x640 8 crops, 209.5ms\n",
            "video 1/1 (230/310) /content/video_test.mp4: 384x640 18 crops, 209.7ms\n",
            "video 1/1 (231/310) /content/video_test.mp4: 384x640 10 crops, 202.5ms\n",
            "video 1/1 (232/310) /content/video_test.mp4: 384x640 4 crops, 304.2ms\n",
            "video 1/1 (233/310) /content/video_test.mp4: 384x640 5 crops, 343.9ms\n",
            "video 1/1 (234/310) /content/video_test.mp4: 384x640 11 crops, 334.0ms\n",
            "video 1/1 (235/310) /content/video_test.mp4: 384x640 9 crops, 337.6ms\n",
            "video 1/1 (236/310) /content/video_test.mp4: 384x640 8 crops, 347.7ms\n",
            "video 1/1 (237/310) /content/video_test.mp4: 384x640 7 crops, 338.8ms\n",
            "video 1/1 (238/310) /content/video_test.mp4: 384x640 7 crops, 341.8ms\n",
            "video 1/1 (239/310) /content/video_test.mp4: 384x640 13 crops, 346.8ms\n",
            "video 1/1 (240/310) /content/video_test.mp4: 384x640 11 crops, 364.2ms\n",
            "video 1/1 (241/310) /content/video_test.mp4: 384x640 2 crops, 334.3ms\n",
            "video 1/1 (242/310) /content/video_test.mp4: 384x640 2 crops, 329.4ms\n",
            "video 1/1 (243/310) /content/video_test.mp4: 384x640 5 crops, 322.7ms\n",
            "video 1/1 (244/310) /content/video_test.mp4: 384x640 6 crops, 253.1ms\n",
            "video 1/1 (245/310) /content/video_test.mp4: 384x640 5 crops, 218.0ms\n",
            "video 1/1 (246/310) /content/video_test.mp4: 384x640 7 crops, 206.2ms\n",
            "video 1/1 (247/310) /content/video_test.mp4: 384x640 6 crops, 210.4ms\n",
            "video 1/1 (248/310) /content/video_test.mp4: 384x640 2 crops, 205.5ms\n",
            "video 1/1 (249/310) /content/video_test.mp4: 384x640 2 crops, 205.1ms\n",
            "video 1/1 (250/310) /content/video_test.mp4: 384x640 1 crop, 208.5ms\n",
            "video 1/1 (251/310) /content/video_test.mp4: 384x640 4 crops, 201.8ms\n",
            "video 1/1 (252/310) /content/video_test.mp4: 384x640 2 crops, 218.3ms\n",
            "video 1/1 (253/310) /content/video_test.mp4: 384x640 3 crops, 212.8ms\n",
            "video 1/1 (254/310) /content/video_test.mp4: 384x640 3 crops, 209.7ms\n",
            "video 1/1 (255/310) /content/video_test.mp4: 384x640 9 crops, 224.3ms\n",
            "video 1/1 (256/310) /content/video_test.mp4: 384x640 8 crops, 208.3ms\n",
            "video 1/1 (257/310) /content/video_test.mp4: 384x640 10 crops, 205.4ms\n",
            "video 1/1 (258/310) /content/video_test.mp4: 384x640 7 crops, 214.7ms\n",
            "video 1/1 (259/310) /content/video_test.mp4: 384x640 9 crops, 211.3ms\n",
            "video 1/1 (260/310) /content/video_test.mp4: 384x640 7 crops, 204.9ms\n",
            "video 1/1 (261/310) /content/video_test.mp4: 384x640 6 crops, 208.1ms\n",
            "video 1/1 (262/310) /content/video_test.mp4: 384x640 5 crops, 220.7ms\n",
            "video 1/1 (263/310) /content/video_test.mp4: 384x640 3 crops, 212.0ms\n",
            "video 1/1 (264/310) /content/video_test.mp4: 384x640 5 crops, 215.3ms\n",
            "video 1/1 (265/310) /content/video_test.mp4: 384x640 6 crops, 196.7ms\n",
            "video 1/1 (266/310) /content/video_test.mp4: 384x640 8 crops, 199.7ms\n",
            "video 1/1 (267/310) /content/video_test.mp4: 384x640 7 crops, 214.7ms\n",
            "video 1/1 (268/310) /content/video_test.mp4: 384x640 6 crops, 206.3ms\n",
            "video 1/1 (269/310) /content/video_test.mp4: 384x640 6 crops, 209.9ms\n",
            "video 1/1 (270/310) /content/video_test.mp4: 384x640 5 crops, 211.3ms\n",
            "video 1/1 (271/310) /content/video_test.mp4: 384x640 8 crops, 214.5ms\n",
            "video 1/1 (272/310) /content/video_test.mp4: 384x640 4 crops, 206.0ms\n",
            "video 1/1 (273/310) /content/video_test.mp4: 384x640 3 crops, 211.9ms\n",
            "video 1/1 (274/310) /content/video_test.mp4: 384x640 3 crops, 207.5ms\n",
            "video 1/1 (275/310) /content/video_test.mp4: 384x640 3 crops, 199.5ms\n",
            "video 1/1 (276/310) /content/video_test.mp4: 384x640 4 crops, 212.7ms\n",
            "video 1/1 (277/310) /content/video_test.mp4: 384x640 1 crop, 198.9ms\n",
            "video 1/1 (278/310) /content/video_test.mp4: 384x640 5 crops, 197.8ms\n",
            "video 1/1 (279/310) /content/video_test.mp4: 384x640 (no detections), 209.5ms\n",
            "video 1/1 (280/310) /content/video_test.mp4: 384x640 2 crops, 216.7ms\n",
            "video 1/1 (281/310) /content/video_test.mp4: 384x640 5 crops, 207.9ms\n",
            "video 1/1 (282/310) /content/video_test.mp4: 384x640 4 crops, 213.3ms\n",
            "video 1/1 (283/310) /content/video_test.mp4: 384x640 3 crops, 200.7ms\n",
            "video 1/1 (284/310) /content/video_test.mp4: 384x640 4 crops, 211.3ms\n",
            "video 1/1 (285/310) /content/video_test.mp4: 384x640 8 crops, 209.9ms\n",
            "video 1/1 (286/310) /content/video_test.mp4: 384x640 8 crops, 207.5ms\n",
            "video 1/1 (287/310) /content/video_test.mp4: 384x640 3 crops, 218.1ms\n",
            "video 1/1 (288/310) /content/video_test.mp4: 384x640 3 crops, 348.3ms\n",
            "video 1/1 (289/310) /content/video_test.mp4: 384x640 9 crops, 324.6ms\n",
            "video 1/1 (290/310) /content/video_test.mp4: 384x640 (no detections), 340.3ms\n",
            "video 1/1 (291/310) /content/video_test.mp4: 384x640 (no detections), 327.7ms\n",
            "video 1/1 (292/310) /content/video_test.mp4: 384x640 (no detections), 339.3ms\n",
            "video 1/1 (293/310) /content/video_test.mp4: 384x640 4 crops, 331.0ms\n",
            "video 1/1 (294/310) /content/video_test.mp4: 384x640 3 crops, 358.7ms\n",
            "video 1/1 (295/310) /content/video_test.mp4: 384x640 6 crops, 340.6ms\n",
            "video 1/1 (296/310) /content/video_test.mp4: 384x640 2 crops, 334.8ms\n",
            "video 1/1 (297/310) /content/video_test.mp4: 384x640 2 crops, 350.0ms\n",
            "video 1/1 (298/310) /content/video_test.mp4: 384x640 1 crop, 352.7ms\n",
            "video 1/1 (299/310) /content/video_test.mp4: 384x640 2 crops, 332.6ms\n",
            "video 1/1 (300/310) /content/video_test.mp4: 384x640 4 crops, 250.1ms\n",
            "video 1/1 (301/310) /content/video_test.mp4: 384x640 3 crops, 206.3ms\n",
            "video 1/1 (302/310) /content/video_test.mp4: 384x640 4 crops, 216.1ms\n",
            "video 1/1 (303/310) /content/video_test.mp4: 384x640 6 crops, 213.3ms\n",
            "video 1/1 (304/310) /content/video_test.mp4: 384x640 5 crops, 207.6ms\n",
            "video 1/1 (305/310) /content/video_test.mp4: 384x640 2 crops, 214.6ms\n",
            "video 1/1 (306/310) /content/video_test.mp4: 384x640 4 crops, 212.5ms\n",
            "video 1/1 (307/310) /content/video_test.mp4: 384x640 (no detections), 223.7ms\n",
            "video 1/1 (308/310) /content/video_test.mp4: 384x640 (no detections), 211.3ms\n",
            "video 1/1 (309/310) /content/video_test.mp4: 384x640 (no detections), 203.4ms\n",
            "video 1/1 (310/310) /content/video_test.mp4: 384x640 2 crops, 206.9ms\n",
            "Speed: 1.5ms pre-process, 240.6ms inference, 0.8ms NMS per image at shape (1, 3, 640, 640)\n",
            "Results saved to \u001b[1mruns/detect/exp\u001b[0m\n"
          ]
        }
      ]
    }
  ]
}