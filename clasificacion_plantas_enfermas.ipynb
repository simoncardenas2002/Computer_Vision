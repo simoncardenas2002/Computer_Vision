{
  "nbformat": 4,
  "nbformat_minor": 0,
  "metadata": {
    "colab": {
      "provenance": [],
      "mount_file_id": "14e0FYPrOk82gNYDrNarDRAnJ6563Uobt",
      "authorship_tag": "ABX9TyN4kn+oD6hsPauPnIak/1N+",
      "include_colab_link": true
    },
    "kernelspec": {
      "name": "python3",
      "display_name": "Python 3"
    },
    "language_info": {
      "name": "python"
    }
  },
  "cells": [
    {
      "cell_type": "markdown",
      "metadata": {
        "id": "view-in-github",
        "colab_type": "text"
      },
      "source": [
        "<a href=\"https://colab.research.google.com/github/simoncardenas2002/Computer_Vision/blob/master/clasificacion_plantas_enfermas.ipynb\" target=\"_parent\"><img src=\"https://colab.research.google.com/assets/colab-badge.svg\" alt=\"Open In Colab\"/></a>"
      ]
    },
    {
      "cell_type": "code",
      "execution_count": null,
      "metadata": {
        "colab": {
          "base_uri": "https://localhost:8080/"
        },
        "id": "u9iEYEBuhPoP",
        "outputId": "9b55797c-06c6-4d2f-b558-30d8ab391f52"
      },
      "outputs": [
        {
          "output_type": "stream",
          "name": "stdout",
          "text": [
            "Drive already mounted at /content/drive; to attempt to forcibly remount, call drive.mount(\"/content/drive\", force_remount=True).\n"
          ]
        }
      ],
      "source": [
        "from google.colab import drive\n",
        "drive.mount('/content/drive')"
      ]
    },
    {
      "cell_type": "code",
      "source": [
        "!cp -r \"/content/drive/MyDrive/computer_vision\" \"/content/CV_project\""
      ],
      "metadata": {
        "id": "exIqeCwJh5mE"
      },
      "execution_count": null,
      "outputs": []
    },
    {
      "cell_type": "code",
      "source": [
        "import os\n",
        "import zipfile\n",
        "\n",
        "local_zip= \"/content/CV_project/data_crop_detection.zip\"\n",
        "zip_ref= zipfile.ZipFile(local_zip,\"r\")\n",
        "zip_ref.extractall(\"dataset\")\n",
        "zip_ref.close()\n"
      ],
      "metadata": {
        "id": "Ylofgia3jBqW"
      },
      "execution_count": null,
      "outputs": []
    },
    {
      "cell_type": "code",
      "source": [
        "path =\"/content/dataset/data_crop_detection\"\n",
        "content= os.listdir(path)\n",
        "content"
      ],
      "metadata": {
        "id": "0SwgLNlak08H",
        "colab": {
          "base_uri": "https://localhost:8080/"
        },
        "outputId": "d9c4b071-cc67-4c6a-8d9b-25f6466ced61"
      },
      "execution_count": null,
      "outputs": [
        {
          "output_type": "execute_result",
          "data": {
            "text/plain": [
              "['IMG_20211022_101440.jpg',\n",
              " 'IMG_20211022_101253.jpg',\n",
              " 'img4.jpg',\n",
              " 'IMG_20211022_101443.jpg',\n",
              " 'img5.jpg',\n",
              " 'img3.jpg',\n",
              " 'img2.jpg',\n",
              " 'img1.jpg',\n",
              " 'IMG_20211022_101359.jpg']"
            ]
          },
          "metadata": {},
          "execution_count": 4
        }
      ]
    },
    {
      "cell_type": "code",
      "source": [
        "path_general= \"dataset_final\"\n",
        "path_train=\"{}/train\".format(path_general)\n",
        "path_test=\"{}/test\".format(path_general)\n",
        "\n",
        "os.mkdir(path_general)\n",
        "os.mkdir(path_train)\n",
        "os.mkdir(path_test)\n"
      ],
      "metadata": {
        "id": "7acejN_5lHY2"
      },
      "execution_count": null,
      "outputs": []
    },
    {
      "cell_type": "markdown",
      "source": [
        "## Creamos la función para dividir el dataset"
      ],
      "metadata": {
        "id": "_VKpVfFNBxHu"
      }
    },
    {
      "cell_type": "code",
      "source": [
        "import random\n",
        "import shutil\n",
        "\n",
        "train = 0.7\n",
        "for nCount in range(int(len(content)*train)): \n",
        "  random_choice_img= random.choice(content) #aleatoriamente selecciona alguna imagen de content\n",
        "  random_choice_img_abs=\"{}/{}\".format(path,random_choice_img) #Logra establecer la dirección de la imagen seleccionada\n",
        "  target_img= \"{}/{}\".format(path_train,random_choice_img) #crea la dirección a la que se quiere copiar la imagen\n",
        "  shutil.copyfile(random_choice_img_abs,target_img) #copia la imagen"
      ],
      "metadata": {
        "id": "TBRGDAuRlXWI"
      },
      "execution_count": null,
      "outputs": []
    },
    {
      "cell_type": "code",
      "source": [
        "for img in content:\n",
        "  random_choice_img_abs= \"{}/{}\".format(path,img)\n",
        "  target_img = \"{}/{}\".format(path_test,img)\n",
        "  shutil.copyfile(random_choice_img_abs,target_img)"
      ],
      "metadata": {
        "id": "wI51harkCOP3"
      },
      "execution_count": null,
      "outputs": []
    },
    {
      "cell_type": "markdown",
      "source": [
        "Ahora guardaremos en una carpeta todas las imagenes finales como un zip tambien"
      ],
      "metadata": {
        "id": "d9sxFwZaK35x"
      }
    },
    {
      "cell_type": "code",
      "source": [
        "!zip -r /content/datasetFinal.zip /content/dataset_final/"
      ],
      "metadata": {
        "colab": {
          "base_uri": "https://localhost:8080/"
        },
        "id": "gA-gHHiuK2gO",
        "outputId": "7e50f458-c8ed-45b2-d28f-26cee9724f72"
      },
      "execution_count": null,
      "outputs": [
        {
          "output_type": "stream",
          "name": "stdout",
          "text": [
            "  adding: content/dataset_final/ (stored 0%)\n",
            "  adding: content/dataset_final/train/ (stored 0%)\n",
            "  adding: content/dataset_final/train/IMG_20211022_101253.jpg (deflated 0%)\n",
            "  adding: content/dataset_final/train/img4.jpg (deflated 0%)\n",
            "  adding: content/dataset_final/train/img5.jpg (deflated 0%)\n",
            "  adding: content/dataset_final/train/img3.jpg (deflated 0%)\n",
            "  adding: content/dataset_final/train/img1.jpg (deflated 0%)\n",
            "  adding: content/dataset_final/train/IMG_20211022_101359.jpg (deflated 0%)\n",
            "  adding: content/dataset_final/test/ (stored 0%)\n",
            "  adding: content/dataset_final/test/IMG_20211022_101440.jpg (deflated 0%)\n",
            "  adding: content/dataset_final/test/IMG_20211022_101253.jpg (deflated 0%)\n",
            "  adding: content/dataset_final/test/img4.jpg (deflated 0%)\n",
            "  adding: content/dataset_final/test/IMG_20211022_101443.jpg (deflated 0%)\n",
            "  adding: content/dataset_final/test/img5.jpg (deflated 0%)\n",
            "  adding: content/dataset_final/test/img3.jpg (deflated 0%)\n",
            "  adding: content/dataset_final/test/img2.jpg (deflated 0%)\n",
            "  adding: content/dataset_final/test/img1.jpg (deflated 0%)\n",
            "  adding: content/dataset_final/test/IMG_20211022_101359.jpg (deflated 0%)\n"
          ]
        }
      ]
    }
  ]
}